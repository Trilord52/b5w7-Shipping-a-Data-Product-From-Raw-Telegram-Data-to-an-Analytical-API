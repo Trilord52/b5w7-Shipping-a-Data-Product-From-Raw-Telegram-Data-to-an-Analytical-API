{
  "cells": [
    {
      "cell_type": "markdown",
      "id": "2e69cd97",
      "metadata": {
        "id": "2e69cd97"
      },
      "source": [
        "# Task 1: Data Scraping and Collection\n",
        "This notebook scrapes messages and images from public Telegram channels related to Ethiopian medical businesses, saving them in a partitioned directory structure for downstream processing.\n",
        "\n",
        "**Instructions:**\n",
        "- Run each cell in order.\n",
        "- You will need your Telegram API ID and API Hash. Get them from https://my.telegram.org/apps.\n",
        "- Download the resulting data from the Colab file browser when finished.\n"
      ]
    },
    {
      "cell_type": "code",
      "execution_count": 1,
      "id": "b203ece5",
      "metadata": {
        "colab": {
          "base_uri": "https://localhost:8080/"
        },
        "id": "b203ece5",
        "outputId": "a8644985-c9da-46e4-9cda-64a56139feda"
      },
      "outputs": [
        {
          "name": "stdout",
          "output_type": "stream",
          "text": [
            "Collecting telethon\n",
            "  Downloading Telethon-1.40.0-py3-none-any.whl.metadata (3.9 kB)\n",
            "Requirement already satisfied: nest_asyncio in /usr/local/lib/python3.11/dist-packages (1.6.0)\n",
            "Requirement already satisfied: tqdm in /usr/local/lib/python3.11/dist-packages (4.67.1)\n",
            "Collecting pyaes (from telethon)\n",
            "  Downloading pyaes-1.6.1.tar.gz (28 kB)\n",
            "  Preparing metadata (setup.py) ... \u001b[?25l\u001b[?25hdone\n",
            "Requirement already satisfied: rsa in /usr/local/lib/python3.11/dist-packages (from telethon) (4.9.1)\n",
            "Requirement already satisfied: pyasn1>=0.1.3 in /usr/local/lib/python3.11/dist-packages (from rsa->telethon) (0.6.1)\n",
            "Downloading Telethon-1.40.0-py3-none-any.whl (722 kB)\n",
            "\u001b[2K   \u001b[90m━━━━━━━━━━━━━━━━━━━━━━━━━━━━━━━━━━━━━━━━\u001b[0m \u001b[32m722.0/722.0 kB\u001b[0m \u001b[31m13.3 MB/s\u001b[0m eta \u001b[36m0:00:00\u001b[0m\n",
            "\u001b[?25hBuilding wheels for collected packages: pyaes\n",
            "  Building wheel for pyaes (setup.py) ... \u001b[?25l\u001b[?25hdone\n",
            "  Created wheel for pyaes: filename=pyaes-1.6.1-py3-none-any.whl size=26347 sha256=e660f8b86007caebe8eaad4fbda7878607b4cf6e0fda26b3a798d21206462f9a\n",
            "  Stored in directory: /root/.cache/pip/wheels/4e/52/33/010d0843550bffb6a591b11629070ae140c0ad4f53e68a3bd3\n",
            "Successfully built pyaes\n",
            "Installing collected packages: pyaes, telethon\n",
            "Successfully installed pyaes-1.6.1 telethon-1.40.0\n"
          ]
        }
      ],
      "source": [
        "# Install dependencies\n",
        "%pip install telethon nest_asyncio tqdm\n"
      ]
    },
    {
      "cell_type": "code",
      "execution_count": 2,
      "id": "96f82137",
      "metadata": {
        "id": "96f82137"
      },
      "outputs": [],
      "source": [
        "import nest_asyncio\n",
        "nest_asyncio.apply()\n",
        "\n",
        "from telethon.sync import TelegramClient\n",
        "from telethon.tl.types import MessageMediaPhoto\n",
        "import os\n",
        "import json\n",
        "from datetime import datetime\n",
        "from tqdm import tqdm\n",
        "import logging\n",
        "\n",
        "# Set up logging (stream only)\n",
        "logging.basicConfig(level=logging.INFO, format='%(asctime)s %(levelname)s:%(message)s')\n"
      ]
    },
    {
      "cell_type": "markdown",
      "id": "fef1d823",
      "metadata": {
        "id": "fef1d823"
      },
      "source": [
        "## Enter your Telegram API credentials\n",
        "You can get these from https://my.telegram.org/apps.\n"
      ]
    },
    {
      "cell_type": "code",
      "execution_count": null,
      "id": "672b4043",
      "metadata": {
        "colab": {
          "base_uri": "https://localhost:8080/"
        },
        "id": "672b4043",
        "outputId": "c4ae5b60-f876-447d-e3d0-dd0d62955152"
      },
      "outputs": [],
      "source": [
        "api_id = input('Enter your Telegram API ID: ')\n",
        "api_hash = input('Enter your Telegram API Hash: ')\n",
        "client = TelegramClient('session', api_id, api_hash)"
      ]
    },
    {
      "cell_type": "markdown",
      "id": "3bed4883",
      "metadata": {
        "id": "3bed4883"
      },
      "source": [
        "## Define channels to scrape\n",
        "Add or remove channel usernames as needed.\n"
      ]
    },
    {
      "cell_type": "code",
      "execution_count": 4,
      "id": "1978ae11",
      "metadata": {
        "id": "1978ae11"
      },
      "outputs": [],
      "source": [
        "channels = [\n",
        "    'lobelia4cosmetics',\n",
        "    'tikvahpharma',\n",
        "    # Add more channel usernames as needed\n",
        "]\n",
        "limit = 100  # Number of messages to scrape per channel\n"
      ]
    },
    {
      "cell_type": "markdown",
      "id": "d8118115",
      "metadata": {
        "id": "d8118115"
      },
      "source": [
        "## Scrape messages and images\n",
        "This will save messages and images in a partitioned directory structure under `data/raw/telegram_messages/YYYY-MM-DD/channel_name.json`. Images will be saved in the same folder.\n"
      ]
    },
    {
      "cell_type": "code",
      "execution_count": 5,
      "id": "233fc933",
      "metadata": {
        "id": "233fc933"
      },
      "outputs": [],
      "source": [
        "async def scrape_channel(channel_username, limit=100):\n",
        "    await client.start()\n",
        "    logging.info(f'Scraping messages from {channel_username}')\n",
        "    messages = await client.get_messages(channel_username, limit=limit)\n",
        "    today = datetime.now().strftime('%Y-%m-%d')\n",
        "    base_dir = f'data/raw/telegram_messages/{today}/{channel_username}'\n",
        "    os.makedirs(base_dir, exist_ok=True)\n",
        "    data = []\n",
        "    for i, message in enumerate(tqdm(messages, desc=channel_username)):\n",
        "        msg_dict = {\n",
        "            'id': message.id,\n",
        "            'date': str(message.date),\n",
        "            'text': message.text,\n",
        "            'has_media': bool(message.media),\n",
        "            'media_path': None\n",
        "        }\n",
        "        if message.media and isinstance(message.media, MessageMediaPhoto):\n",
        "            file_path = os.path.join(base_dir, f'photo_{message.id}.jpg')\n",
        "            try:\n",
        "                await message.download_media(file=file_path)\n",
        "                msg_dict['media_path'] = file_path\n",
        "                logging.info(f'Saved image to: {file_path}')\n",
        "            except Exception as e:\n",
        "                logging.error(f'Failed to download image: {e}')\n",
        "        data.append(msg_dict)\n",
        "    # Save messages as JSON\n",
        "    json_path = os.path.join(base_dir, f'{channel_username}.json')\n",
        "    with open(json_path, 'w', encoding='utf-8') as f:\n",
        "        json.dump(data, f, ensure_ascii=False, indent=2)\n",
        "    logging.info(f'Saved messages to: {json_path}')\n",
        "    await client.disconnect()\n"
      ]
    },
    {
      "cell_type": "code",
      "execution_count": null,
      "id": "17bb9825",
      "metadata": {
        "colab": {
          "base_uri": "https://localhost:8080/"
        },
        "id": "17bb9825",
        "outputId": "ba2af10b-8137-4296-933c-512082aaabc4"
      },
      "outputs": [],
      "source": [
        "# Run scraping for all channels\n",
        "import asyncio\n",
        "for channel in channels:\n",
        "    asyncio.run(scrape_channel(channel, limit=limit))"
      ]
    },
    {
      "cell_type": "markdown",
      "id": "d1876957",
      "metadata": {
        "id": "d1876957"
      },
      "source": [
        "## Download your data\n",
        "After scraping, use the Colab file browser (left sidebar) to download the `data/` folder to your local machine for further processing.\n"
      ]
    },
    {
      "cell_type": "code",
      "execution_count": 10,
      "id": "SSLccBJVdmq0",
      "metadata": {
        "colab": {
          "base_uri": "https://localhost:8080/",
          "height": 1000
        },
        "id": "SSLccBJVdmq0",
        "outputId": "235e3d8b-1d19-46e0-f844-1335cf505d5d"
      },
      "outputs": [
        {
          "name": "stdout",
          "output_type": "stream",
          "text": [
            "/content/data\n",
            "updating: raw/ (stored 0%)\n",
            "updating: raw/telegram_messages/ (stored 0%)\n",
            "updating: raw/telegram_messages/2025-07-15/ (stored 0%)\n",
            "updating: raw/telegram_messages/2025-07-15/tikvahpharma/ (stored 0%)\n",
            "updating: raw/telegram_messages/2025-07-15/tikvahpharma/tikvahpharma.json (deflated 79%)\n",
            "updating: raw/telegram_messages/2025-07-15/tikvahpharma/photo_172676.jpg (deflated 4%)\n",
            "updating: raw/telegram_messages/2025-07-15/tikvahpharma/photo_172730.jpg (deflated 5%)\n",
            "updating: raw/telegram_messages/2025-07-15/tikvahpharma/photo_172422.jpg (deflated 14%)\n",
            "updating: raw/telegram_messages/2025-07-15/tikvahpharma/photo_172431.jpg (deflated 3%)\n",
            "updating: raw/telegram_messages/2025-07-15/tikvahpharma/photo_172448.jpg (deflated 2%)\n",
            "updating: raw/telegram_messages/2025-07-15/tikvahpharma/photo_172350.jpg (deflated 1%)\n",
            "updating: raw/telegram_messages/2025-07-15/tikvahpharma/photo_172566.jpg (deflated 4%)\n",
            "updating: raw/telegram_messages/2025-07-15/tikvahpharma/photo_172546.jpg (deflated 2%)\n",
            "updating: raw/telegram_messages/2025-07-15/tikvahpharma/photo_172526.jpg (deflated 0%)\n",
            "updating: raw/telegram_messages/2025-07-15/tikvahpharma/photo_172488.jpg (deflated 1%)\n",
            "updating: raw/telegram_messages/2025-07-15/tikvahpharma/photo_172644.jpg (deflated 2%)\n",
            "updating: raw/telegram_messages/2025-07-15/tikvahpharma/photo_172631.jpg (deflated 6%)\n",
            "updating: raw/telegram_messages/2025-07-15/tikvahpharma/photo_172451.jpg (deflated 0%)\n",
            "updating: raw/telegram_messages/2025-07-15/tikvahpharma/photo_172530.jpg (deflated 14%)\n",
            "updating: raw/telegram_messages/2025-07-15/tikvahpharma/photo_172604.jpg (deflated 1%)\n",
            "updating: raw/telegram_messages/2025-07-15/tikvahpharma/photo_172453.jpg (deflated 0%)\n",
            "updating: raw/telegram_messages/2025-07-15/tikvahpharma/photo_172525.jpg (deflated 0%)\n",
            "updating: raw/telegram_messages/2025-07-15/tikvahpharma/photo_172527.jpg (deflated 0%)\n",
            "updating: raw/telegram_messages/2025-07-15/tikvahpharma/photo_172510.jpg (deflated 5%)\n",
            "updating: raw/telegram_messages/2025-07-15/tikvahpharma/photo_172531.jpg (deflated 2%)\n",
            "updating: raw/telegram_messages/2025-07-15/tikvahpharma/photo_172345.jpg (deflated 10%)\n",
            "updating: raw/telegram_messages/2025-07-15/tikvahpharma/photo_172367.jpg (deflated 2%)\n",
            "updating: raw/telegram_messages/2025-07-15/tikvahpharma/photo_172452.jpg (deflated 0%)\n",
            "updating: raw/telegram_messages/2025-07-15/tikvahpharma/photo_172646.jpg (deflated 4%)\n",
            "updating: raw/telegram_messages/2025-07-15/lobelia4cosmetics/ (stored 0%)\n",
            "updating: raw/telegram_messages/2025-07-15/lobelia4cosmetics/photo_18498.jpg (deflated 1%)\n",
            "updating: raw/telegram_messages/2025-07-15/lobelia4cosmetics/photo_18576.jpg (deflated 4%)\n",
            "updating: raw/telegram_messages/2025-07-15/lobelia4cosmetics/photo_18489.jpg (deflated 8%)\n",
            "updating: raw/telegram_messages/2025-07-15/lobelia4cosmetics/photo_18539.jpg (deflated 5%)\n",
            "updating: raw/telegram_messages/2025-07-15/lobelia4cosmetics/photo_18532.jpg (deflated 1%)\n",
            "updating: raw/telegram_messages/2025-07-15/lobelia4cosmetics/photo_18490.jpg (deflated 2%)\n",
            "updating: raw/telegram_messages/2025-07-15/lobelia4cosmetics/photo_18540.jpg (deflated 3%)\n",
            "updating: raw/telegram_messages/2025-07-15/lobelia4cosmetics/photo_18553.jpg (deflated 8%)\n",
            "updating: raw/telegram_messages/2025-07-15/lobelia4cosmetics/photo_18559.jpg (deflated 3%)\n",
            "updating: raw/telegram_messages/2025-07-15/lobelia4cosmetics/photo_18548.jpg (deflated 1%)\n",
            "updating: raw/telegram_messages/2025-07-15/lobelia4cosmetics/photo_18583.jpg (deflated 2%)\n",
            "updating: raw/telegram_messages/2025-07-15/lobelia4cosmetics/photo_18572.jpg (deflated 5%)\n",
            "updating: raw/telegram_messages/2025-07-15/lobelia4cosmetics/photo_18506.jpg (deflated 2%)\n",
            "updating: raw/telegram_messages/2025-07-15/lobelia4cosmetics/photo_18546.jpg (deflated 2%)\n",
            "updating: raw/telegram_messages/2025-07-15/lobelia4cosmetics/photo_18522.jpg (deflated 5%)\n",
            "updating: raw/telegram_messages/2025-07-15/lobelia4cosmetics/photo_18505.jpg (deflated 2%)\n",
            "updating: raw/telegram_messages/2025-07-15/lobelia4cosmetics/photo_18547.jpg (deflated 2%)\n",
            "updating: raw/telegram_messages/2025-07-15/lobelia4cosmetics/photo_18502.jpg (deflated 2%)\n",
            "updating: raw/telegram_messages/2025-07-15/lobelia4cosmetics/photo_18582.jpg (deflated 1%)\n",
            "updating: raw/telegram_messages/2025-07-15/lobelia4cosmetics/photo_18545.jpg (deflated 7%)\n",
            "updating: raw/telegram_messages/2025-07-15/lobelia4cosmetics/photo_18556.jpg (deflated 2%)\n",
            "updating: raw/telegram_messages/2025-07-15/lobelia4cosmetics/photo_18526.jpg (deflated 1%)\n",
            "updating: raw/telegram_messages/2025-07-15/lobelia4cosmetics/photo_18483.jpg (deflated 4%)\n",
            "updating: raw/telegram_messages/2025-07-15/lobelia4cosmetics/photo_18507.jpg (deflated 5%)\n",
            "updating: raw/telegram_messages/2025-07-15/lobelia4cosmetics/photo_18493.jpg (deflated 3%)\n",
            "updating: raw/telegram_messages/2025-07-15/lobelia4cosmetics/photo_18495.jpg (deflated 3%)\n",
            "updating: raw/telegram_messages/2025-07-15/lobelia4cosmetics/photo_18496.jpg (deflated 4%)\n",
            "updating: raw/telegram_messages/2025-07-15/lobelia4cosmetics/photo_18581.jpg (deflated 2%)\n",
            "updating: raw/telegram_messages/2025-07-15/lobelia4cosmetics/photo_18531.jpg (deflated 3%)\n",
            "updating: raw/telegram_messages/2025-07-15/lobelia4cosmetics/photo_18503.jpg (deflated 2%)\n",
            "updating: raw/telegram_messages/2025-07-15/lobelia4cosmetics/photo_18492.jpg (deflated 5%)\n",
            "updating: raw/telegram_messages/2025-07-15/lobelia4cosmetics/photo_18557.jpg (deflated 1%)\n",
            "updating: raw/telegram_messages/2025-07-15/lobelia4cosmetics/photo_18537.jpg (deflated 4%)\n",
            "updating: raw/telegram_messages/2025-07-15/lobelia4cosmetics/photo_18542.jpg (deflated 5%)\n",
            "updating: raw/telegram_messages/2025-07-15/lobelia4cosmetics/photo_18513.jpg (deflated 5%)\n",
            "updating: raw/telegram_messages/2025-07-15/lobelia4cosmetics/photo_18521.jpg (deflated 4%)\n",
            "updating: raw/telegram_messages/2025-07-15/lobelia4cosmetics/photo_18541.jpg (deflated 5%)\n",
            "updating: raw/telegram_messages/2025-07-15/lobelia4cosmetics/photo_18570.jpg (deflated 4%)\n",
            "updating: raw/telegram_messages/2025-07-15/lobelia4cosmetics/photo_18552.jpg (deflated 4%)\n",
            "updating: raw/telegram_messages/2025-07-15/lobelia4cosmetics/photo_18504.jpg (deflated 2%)\n",
            "updating: raw/telegram_messages/2025-07-15/lobelia4cosmetics/photo_18516.jpg (deflated 6%)\n",
            "updating: raw/telegram_messages/2025-07-15/lobelia4cosmetics/photo_18500.jpg (deflated 3%)\n",
            "updating: raw/telegram_messages/2025-07-15/lobelia4cosmetics/photo_18565.jpg (deflated 1%)\n",
            "updating: raw/telegram_messages/2025-07-15/lobelia4cosmetics/photo_18584.jpg (deflated 1%)\n",
            "updating: raw/telegram_messages/2025-07-15/lobelia4cosmetics/photo_18549.jpg (deflated 2%)\n",
            "updating: raw/telegram_messages/2025-07-15/lobelia4cosmetics/photo_18544.jpg (deflated 3%)\n",
            "updating: raw/telegram_messages/2025-07-15/lobelia4cosmetics/photo_18564.jpg (deflated 2%)\n",
            "updating: raw/telegram_messages/2025-07-15/lobelia4cosmetics/photo_18528.jpg (deflated 2%)\n",
            "updating: raw/telegram_messages/2025-07-15/lobelia4cosmetics/photo_18509.jpg (deflated 5%)\n",
            "updating: raw/telegram_messages/2025-07-15/lobelia4cosmetics/photo_18491.jpg (deflated 2%)\n",
            "updating: raw/telegram_messages/2025-07-15/lobelia4cosmetics/photo_18573.jpg (deflated 4%)\n",
            "updating: raw/telegram_messages/2025-07-15/lobelia4cosmetics/photo_18501.jpg (deflated 2%)\n",
            "updating: raw/telegram_messages/2025-07-15/lobelia4cosmetics/photo_18551.jpg (deflated 1%)\n",
            "updating: raw/telegram_messages/2025-07-15/lobelia4cosmetics/photo_18571.jpg (deflated 8%)\n",
            "updating: raw/telegram_messages/2025-07-15/lobelia4cosmetics/photo_18524.jpg (deflated 1%)\n",
            "updating: raw/telegram_messages/2025-07-15/lobelia4cosmetics/photo_18575.jpg (deflated 4%)\n",
            "updating: raw/telegram_messages/2025-07-15/lobelia4cosmetics/photo_18561.jpg (deflated 5%)\n",
            "updating: raw/telegram_messages/2025-07-15/lobelia4cosmetics/photo_18517.jpg (deflated 7%)\n",
            "updating: raw/telegram_messages/2025-07-15/lobelia4cosmetics/photo_18520.jpg (deflated 4%)\n",
            "updating: raw/telegram_messages/2025-07-15/lobelia4cosmetics/photo_18562.jpg (deflated 4%)\n",
            "updating: raw/telegram_messages/2025-07-15/lobelia4cosmetics/photo_18508.jpg (deflated 3%)\n",
            "updating: raw/telegram_messages/2025-07-15/lobelia4cosmetics/photo_18579.jpg (deflated 3%)\n",
            "updating: raw/telegram_messages/2025-07-15/lobelia4cosmetics/photo_18580.jpg (deflated 1%)\n",
            "updating: raw/telegram_messages/2025-07-15/lobelia4cosmetics/photo_18529.jpg (deflated 2%)\n",
            "updating: raw/telegram_messages/2025-07-15/lobelia4cosmetics/photo_18511.jpg (deflated 3%)\n",
            "updating: raw/telegram_messages/2025-07-15/lobelia4cosmetics/photo_18578.jpg (deflated 2%)\n",
            "updating: raw/telegram_messages/2025-07-15/lobelia4cosmetics/lobelia4cosmetics.json (deflated 95%)\n",
            "updating: raw/telegram_messages/2025-07-15/lobelia4cosmetics/photo_18538.jpg (deflated 4%)\n",
            "updating: raw/telegram_messages/2025-07-15/lobelia4cosmetics/photo_18543.jpg (deflated 8%)\n",
            "updating: raw/telegram_messages/2025-07-15/lobelia4cosmetics/photo_18566.jpg (deflated 1%)\n",
            "updating: raw/telegram_messages/2025-07-15/lobelia4cosmetics/photo_18519.jpg (deflated 8%)\n",
            "updating: raw/telegram_messages/2025-07-15/lobelia4cosmetics/photo_18563.jpg (deflated 2%)\n",
            "updating: raw/telegram_messages/2025-07-15/lobelia4cosmetics/photo_18534.jpg (deflated 1%)\n",
            "updating: raw/telegram_messages/2025-07-15/lobelia4cosmetics/photo_18512.jpg (deflated 5%)\n",
            "updating: raw/telegram_messages/2025-07-15/lobelia4cosmetics/photo_18525.jpg (deflated 1%)\n",
            "updating: raw/telegram_messages/2025-07-15/lobelia4cosmetics/photo_18567.jpg (deflated 1%)\n",
            "updating: raw/telegram_messages/2025-07-15/lobelia4cosmetics/photo_18558.jpg (deflated 2%)\n",
            "updating: raw/telegram_messages/2025-07-15/lobelia4cosmetics/photo_18494.jpg (deflated 5%)\n",
            "updating: raw/telegram_messages/2025-07-15/lobelia4cosmetics/photo_18487.jpg (deflated 5%)\n",
            "updating: raw/telegram_messages/2025-07-15/lobelia4cosmetics/photo_18535.jpg (deflated 2%)\n",
            "updating: raw/telegram_messages/2025-07-15/lobelia4cosmetics/photo_18569.jpg (deflated 4%)\n",
            "updating: raw/telegram_messages/2025-07-15/lobelia4cosmetics/photo_18555.jpg (deflated 4%)\n",
            "updating: raw/telegram_messages/2025-07-15/lobelia4cosmetics/photo_18577.jpg (deflated 3%)\n",
            "updating: raw/telegram_messages/2025-07-15/lobelia4cosmetics/photo_18518.jpg (deflated 5%)\n",
            "updating: raw/telegram_messages/2025-07-15/lobelia4cosmetics/photo_18554.jpg (deflated 1%)\n",
            "updating: raw/telegram_messages/2025-07-15/lobelia4cosmetics/photo_18574.jpg (deflated 3%)\n",
            "updating: raw/telegram_messages/2025-07-15/lobelia4cosmetics/photo_18486.jpg (deflated 1%)\n",
            "updating: raw/telegram_messages/2025-07-15/lobelia4cosmetics/photo_18514.jpg (deflated 8%)\n",
            "updating: raw/telegram_messages/2025-07-15/lobelia4cosmetics/photo_18497.jpg (deflated 2%)\n",
            "updating: raw/telegram_messages/2025-07-15/lobelia4cosmetics/photo_18515.jpg (deflated 7%)\n",
            "updating: raw/telegram_messages/2025-07-15/lobelia4cosmetics/photo_18568.jpg (deflated 7%)\n",
            "updating: raw/telegram_messages/2025-07-15/lobelia4cosmetics/photo_18484.jpg (deflated 5%)\n",
            "updating: raw/telegram_messages/2025-07-15/lobelia4cosmetics/photo_18560.jpg (deflated 4%)\n",
            "updating: raw/telegram_messages/2025-07-15/lobelia4cosmetics/photo_18485.jpg (deflated 1%)\n",
            "updating: raw/telegram_messages/2025-07-15/lobelia4cosmetics/photo_18550.jpg (deflated 1%)\n",
            "updating: raw/telegram_messages/2025-07-15/lobelia4cosmetics/photo_18488.jpg (deflated 1%)\n",
            "updating: raw/telegram_messages/2025-07-15/lobelia4cosmetics/photo_18536.jpg (deflated 5%)\n",
            "updating: raw/telegram_messages/2025-07-15/lobelia4cosmetics/photo_18499.jpg (deflated 1%)\n",
            "updating: raw/telegram_messages/2025-07-15/lobelia4cosmetics/photo_18510.jpg (deflated 10%)\n",
            "updating: raw/telegram_messages/2025-07-15/lobelia4cosmetics/photo_18533.jpg (deflated 4%)\n",
            "updating: raw/telegram_messages/2025-07-15/lobelia4cosmetics/photo_18530.jpg (deflated 1%)\n"
          ]
        },
        {
          "data": {
            "application/javascript": "\n    async function download(id, filename, size) {\n      if (!google.colab.kernel.accessAllowed) {\n        return;\n      }\n      const div = document.createElement('div');\n      const label = document.createElement('label');\n      label.textContent = `Downloading \"${filename}\": `;\n      div.appendChild(label);\n      const progress = document.createElement('progress');\n      progress.max = size;\n      div.appendChild(progress);\n      document.body.appendChild(div);\n\n      const buffers = [];\n      let downloaded = 0;\n\n      const channel = await google.colab.kernel.comms.open(id);\n      // Send a message to notify the kernel that we're ready.\n      channel.send({})\n\n      for await (const message of channel.messages) {\n        // Send a message to notify the kernel that we're ready.\n        channel.send({})\n        if (message.buffers) {\n          for (const buffer of message.buffers) {\n            buffers.push(buffer);\n            downloaded += buffer.byteLength;\n            progress.value = downloaded;\n          }\n        }\n      }\n      const blob = new Blob(buffers, {type: 'application/binary'});\n      const a = document.createElement('a');\n      a.href = window.URL.createObjectURL(blob);\n      a.download = filename;\n      div.appendChild(a);\n      a.click();\n      div.remove();\n    }\n  ",
            "text/plain": [
              "<IPython.core.display.Javascript object>"
            ]
          },
          "metadata": {},
          "output_type": "display_data"
        },
        {
          "data": {
            "application/javascript": "download(\"download_a8192e03-e5d8-483b-95b8-92dacba95998\", \"raw.zip\", 9920132)",
            "text/plain": [
              "<IPython.core.display.Javascript object>"
            ]
          },
          "metadata": {},
          "output_type": "display_data"
        }
      ],
      "source": [
        "%cd /content/data/\n",
        "!zip -r raw.zip raw/\n",
        "from google.colab import files\n",
        "files.download('raw.zip')"
      ]
    }
  ],
  "metadata": {
    "colab": {
      "provenance": []
    },
    "kernelspec": {
      "display_name": "Python 3",
      "name": "python3"
    },
    "language_info": {
      "name": "python"
    }
  },
  "nbformat": 4,
  "nbformat_minor": 5
}
